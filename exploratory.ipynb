{
 "cells": [
  {
   "cell_type": "markdown",
   "metadata": {},
   "source": [
    "> ## Analyzing Ford GoBike System Data\n",
    "> -  ### By Wael Alharbi "
   ]
  },
  {
   "cell_type": "markdown",
   "metadata": {},
   "source": [
    "> ## Introduction :\n",
    "Ford GoBike is the Bay Area's new bike share system, with thousands of public bikes for use across San Francisco, East Bay and San Jose. Renting Bikes is designed with convenience in mind. it’s a fun and affordable way to get around town.It aslo offers Single Ride is 2 dollars per day which is great for one way trip, Monthly Memberships is 15 dollars per month for its good deal for locals and Access Pass for 10 dollars which is perfect for exploring.\n",
    "\n"
   ]
  },
  {
   "cell_type": "markdown",
   "metadata": {},
   "source": [
    "## Gathering Data :"
   ]
  },
  {
   "cell_type": "code",
   "execution_count": 109,
   "metadata": {},
   "outputs": [],
   "source": [
    "from requests import get\n",
    "from os import path, getcwd, makedirs, listdir \n",
    "from io import BytesIO\n",
    "from zipfile import ZipFile\n",
    "import pandas as pd\n",
    "import numpy as np\n",
    "import matplotlib\n",
    "from matplotlib import pyplot as plt\n",
    "import matplotlib.ticker as tick\n",
    "import matplotlib.dates as mdates\n",
    "import seaborn as sns\n",
    "import datetime\n",
    "import math\n",
    "import calendar\n",
    "import warnings\n",
    "\n",
    "from IPython.display import Image\n",
    "%matplotlib inline\n"
   ]
  },
  {
   "cell_type": "code",
   "execution_count": 110,
   "metadata": {},
   "outputs": [
    {
     "data": {
      "text/html": [
       "<div>\n",
       "<style scoped>\n",
       "    .dataframe tbody tr th:only-of-type {\n",
       "        vertical-align: middle;\n",
       "    }\n",
       "\n",
       "    .dataframe tbody tr th {\n",
       "        vertical-align: top;\n",
       "    }\n",
       "\n",
       "    .dataframe thead th {\n",
       "        text-align: right;\n",
       "    }\n",
       "</style>\n",
       "<table border=\"1\" class=\"dataframe\">\n",
       "  <thead>\n",
       "    <tr style=\"text-align: right;\">\n",
       "      <th></th>\n",
       "      <th>duration_sec</th>\n",
       "      <th>start_time</th>\n",
       "      <th>end_time</th>\n",
       "      <th>start_station_id</th>\n",
       "      <th>start_station_name</th>\n",
       "      <th>start_station_latitude</th>\n",
       "      <th>start_station_longitude</th>\n",
       "      <th>end_station_id</th>\n",
       "      <th>end_station_name</th>\n",
       "      <th>end_station_latitude</th>\n",
       "      <th>end_station_longitude</th>\n",
       "      <th>bike_id</th>\n",
       "      <th>user_type</th>\n",
       "      <th>member_birth_year</th>\n",
       "      <th>member_gender</th>\n",
       "      <th>bike_share_for_all_trip</th>\n",
       "    </tr>\n",
       "  </thead>\n",
       "  <tbody>\n",
       "    <tr>\n",
       "      <th>0</th>\n",
       "      <td>52185</td>\n",
       "      <td>2019-02-28 17:32:10.1450</td>\n",
       "      <td>2019-03-01 08:01:55.9750</td>\n",
       "      <td>21.0</td>\n",
       "      <td>Montgomery St BART Station (Market St at 2nd St)</td>\n",
       "      <td>37.789625</td>\n",
       "      <td>-122.400811</td>\n",
       "      <td>13.0</td>\n",
       "      <td>Commercial St at Montgomery St</td>\n",
       "      <td>37.794231</td>\n",
       "      <td>-122.402923</td>\n",
       "      <td>4902</td>\n",
       "      <td>Customer</td>\n",
       "      <td>1984.0</td>\n",
       "      <td>Male</td>\n",
       "      <td>No</td>\n",
       "    </tr>\n",
       "    <tr>\n",
       "      <th>1</th>\n",
       "      <td>42521</td>\n",
       "      <td>2019-02-28 18:53:21.7890</td>\n",
       "      <td>2019-03-01 06:42:03.0560</td>\n",
       "      <td>23.0</td>\n",
       "      <td>The Embarcadero at Steuart St</td>\n",
       "      <td>37.791464</td>\n",
       "      <td>-122.391034</td>\n",
       "      <td>81.0</td>\n",
       "      <td>Berry St at 4th St</td>\n",
       "      <td>37.775880</td>\n",
       "      <td>-122.393170</td>\n",
       "      <td>2535</td>\n",
       "      <td>Customer</td>\n",
       "      <td>NaN</td>\n",
       "      <td>NaN</td>\n",
       "      <td>No</td>\n",
       "    </tr>\n",
       "    <tr>\n",
       "      <th>2</th>\n",
       "      <td>61854</td>\n",
       "      <td>2019-02-28 12:13:13.2180</td>\n",
       "      <td>2019-03-01 05:24:08.1460</td>\n",
       "      <td>86.0</td>\n",
       "      <td>Market St at Dolores St</td>\n",
       "      <td>37.769305</td>\n",
       "      <td>-122.426826</td>\n",
       "      <td>3.0</td>\n",
       "      <td>Powell St BART Station (Market St at 4th St)</td>\n",
       "      <td>37.786375</td>\n",
       "      <td>-122.404904</td>\n",
       "      <td>5905</td>\n",
       "      <td>Customer</td>\n",
       "      <td>1972.0</td>\n",
       "      <td>Male</td>\n",
       "      <td>No</td>\n",
       "    </tr>\n",
       "    <tr>\n",
       "      <th>3</th>\n",
       "      <td>36490</td>\n",
       "      <td>2019-02-28 17:54:26.0100</td>\n",
       "      <td>2019-03-01 04:02:36.8420</td>\n",
       "      <td>375.0</td>\n",
       "      <td>Grove St at Masonic Ave</td>\n",
       "      <td>37.774836</td>\n",
       "      <td>-122.446546</td>\n",
       "      <td>70.0</td>\n",
       "      <td>Central Ave at Fell St</td>\n",
       "      <td>37.773311</td>\n",
       "      <td>-122.444293</td>\n",
       "      <td>6638</td>\n",
       "      <td>Subscriber</td>\n",
       "      <td>1989.0</td>\n",
       "      <td>Other</td>\n",
       "      <td>No</td>\n",
       "    </tr>\n",
       "    <tr>\n",
       "      <th>4</th>\n",
       "      <td>1585</td>\n",
       "      <td>2019-02-28 23:54:18.5490</td>\n",
       "      <td>2019-03-01 00:20:44.0740</td>\n",
       "      <td>7.0</td>\n",
       "      <td>Frank H Ogawa Plaza</td>\n",
       "      <td>37.804562</td>\n",
       "      <td>-122.271738</td>\n",
       "      <td>222.0</td>\n",
       "      <td>10th Ave at E 15th St</td>\n",
       "      <td>37.792714</td>\n",
       "      <td>-122.248780</td>\n",
       "      <td>4898</td>\n",
       "      <td>Subscriber</td>\n",
       "      <td>1974.0</td>\n",
       "      <td>Male</td>\n",
       "      <td>Yes</td>\n",
       "    </tr>\n",
       "  </tbody>\n",
       "</table>\n",
       "</div>"
      ],
      "text/plain": [
       "   duration_sec                start_time                  end_time  \\\n",
       "0         52185  2019-02-28 17:32:10.1450  2019-03-01 08:01:55.9750   \n",
       "1         42521  2019-02-28 18:53:21.7890  2019-03-01 06:42:03.0560   \n",
       "2         61854  2019-02-28 12:13:13.2180  2019-03-01 05:24:08.1460   \n",
       "3         36490  2019-02-28 17:54:26.0100  2019-03-01 04:02:36.8420   \n",
       "4          1585  2019-02-28 23:54:18.5490  2019-03-01 00:20:44.0740   \n",
       "\n",
       "   start_station_id                                start_station_name  \\\n",
       "0              21.0  Montgomery St BART Station (Market St at 2nd St)   \n",
       "1              23.0                     The Embarcadero at Steuart St   \n",
       "2              86.0                           Market St at Dolores St   \n",
       "3             375.0                           Grove St at Masonic Ave   \n",
       "4               7.0                               Frank H Ogawa Plaza   \n",
       "\n",
       "   start_station_latitude  start_station_longitude  end_station_id  \\\n",
       "0               37.789625              -122.400811            13.0   \n",
       "1               37.791464              -122.391034            81.0   \n",
       "2               37.769305              -122.426826             3.0   \n",
       "3               37.774836              -122.446546            70.0   \n",
       "4               37.804562              -122.271738           222.0   \n",
       "\n",
       "                               end_station_name  end_station_latitude  \\\n",
       "0                Commercial St at Montgomery St             37.794231   \n",
       "1                            Berry St at 4th St             37.775880   \n",
       "2  Powell St BART Station (Market St at 4th St)             37.786375   \n",
       "3                        Central Ave at Fell St             37.773311   \n",
       "4                         10th Ave at E 15th St             37.792714   \n",
       "\n",
       "   end_station_longitude  bike_id   user_type  member_birth_year  \\\n",
       "0            -122.402923     4902    Customer             1984.0   \n",
       "1            -122.393170     2535    Customer                NaN   \n",
       "2            -122.404904     5905    Customer             1972.0   \n",
       "3            -122.444293     6638  Subscriber             1989.0   \n",
       "4            -122.248780     4898  Subscriber             1974.0   \n",
       "\n",
       "  member_gender bike_share_for_all_trip  \n",
       "0          Male                      No  \n",
       "1           NaN                      No  \n",
       "2          Male                      No  \n",
       "3         Other                      No  \n",
       "4          Male                     Yes  "
      ]
     },
     "execution_count": 110,
     "metadata": {},
     "output_type": "execute_result"
    }
   ],
   "source": [
    "df = pd.read_csv('201902-fordgobike-tripdata.csv')\n",
    "df.head()"
   ]
  },
  {
   "cell_type": "markdown",
   "metadata": {},
   "source": [
    "## Assessing and Cleaning Data : "
   ]
  },
  {
   "cell_type": "code",
   "execution_count": 111,
   "metadata": {},
   "outputs": [
    {
     "name": "stdout",
     "output_type": "stream",
     "text": [
      "<class 'pandas.core.frame.DataFrame'>\n",
      "RangeIndex: 183412 entries, 0 to 183411\n",
      "Data columns (total 16 columns):\n",
      " #   Column                   Non-Null Count   Dtype  \n",
      "---  ------                   --------------   -----  \n",
      " 0   duration_sec             183412 non-null  int64  \n",
      " 1   start_time               183412 non-null  object \n",
      " 2   end_time                 183412 non-null  object \n",
      " 3   start_station_id         183215 non-null  float64\n",
      " 4   start_station_name       183215 non-null  object \n",
      " 5   start_station_latitude   183412 non-null  float64\n",
      " 6   start_station_longitude  183412 non-null  float64\n",
      " 7   end_station_id           183215 non-null  float64\n",
      " 8   end_station_name         183215 non-null  object \n",
      " 9   end_station_latitude     183412 non-null  float64\n",
      " 10  end_station_longitude    183412 non-null  float64\n",
      " 11  bike_id                  183412 non-null  int64  \n",
      " 12  user_type                183412 non-null  object \n",
      " 13  member_birth_year        175147 non-null  float64\n",
      " 14  member_gender            175147 non-null  object \n",
      " 15  bike_share_for_all_trip  183412 non-null  object \n",
      "dtypes: float64(7), int64(2), object(7)\n",
      "memory usage: 22.4+ MB\n"
     ]
    }
   ],
   "source": [
    "df.info()"
   ]
  },
  {
   "cell_type": "code",
   "execution_count": 112,
   "metadata": {},
   "outputs": [
    {
     "data": {
      "text/plain": [
       "0"
      ]
     },
     "execution_count": 112,
     "metadata": {},
     "output_type": "execute_result"
    }
   ],
   "source": [
    "df.duplicated().sum()"
   ]
  },
  {
   "cell_type": "code",
   "execution_count": 113,
   "metadata": {},
   "outputs": [
    {
     "data": {
      "text/plain": [
       "duration_sec                 int64\n",
       "start_time                  object\n",
       "end_time                    object\n",
       "start_station_id           float64\n",
       "start_station_name          object\n",
       "start_station_latitude     float64\n",
       "start_station_longitude    float64\n",
       "end_station_id             float64\n",
       "end_station_name            object\n",
       "end_station_latitude       float64\n",
       "end_station_longitude      float64\n",
       "bike_id                      int64\n",
       "user_type                   object\n",
       "member_birth_year          float64\n",
       "member_gender               object\n",
       "bike_share_for_all_trip     object\n",
       "dtype: object"
      ]
     },
     "execution_count": 113,
     "metadata": {},
     "output_type": "execute_result"
    }
   ],
   "source": [
    "df.dtypes"
   ]
  },
  {
   "cell_type": "code",
   "execution_count": 114,
   "metadata": {},
   "outputs": [
    {
     "data": {
      "text/html": [
       "<div>\n",
       "<style scoped>\n",
       "    .dataframe tbody tr th:only-of-type {\n",
       "        vertical-align: middle;\n",
       "    }\n",
       "\n",
       "    .dataframe tbody tr th {\n",
       "        vertical-align: top;\n",
       "    }\n",
       "\n",
       "    .dataframe thead th {\n",
       "        text-align: right;\n",
       "    }\n",
       "</style>\n",
       "<table border=\"1\" class=\"dataframe\">\n",
       "  <thead>\n",
       "    <tr style=\"text-align: right;\">\n",
       "      <th></th>\n",
       "      <th>duration_sec</th>\n",
       "      <th>start_time</th>\n",
       "      <th>end_time</th>\n",
       "      <th>start_station_id</th>\n",
       "      <th>start_station_name</th>\n",
       "      <th>start_station_latitude</th>\n",
       "      <th>start_station_longitude</th>\n",
       "      <th>end_station_id</th>\n",
       "      <th>end_station_name</th>\n",
       "      <th>end_station_latitude</th>\n",
       "      <th>end_station_longitude</th>\n",
       "      <th>bike_id</th>\n",
       "      <th>user_type</th>\n",
       "      <th>member_birth_year</th>\n",
       "      <th>member_gender</th>\n",
       "      <th>bike_share_for_all_trip</th>\n",
       "    </tr>\n",
       "  </thead>\n",
       "  <tbody>\n",
       "    <tr>\n",
       "      <th>142494</th>\n",
       "      <td>248</td>\n",
       "      <td>2019-02-07 17:07:22.0020</td>\n",
       "      <td>2019-02-07 17:11:30.1130</td>\n",
       "      <td>7.0</td>\n",
       "      <td>Frank H Ogawa Plaza</td>\n",
       "      <td>37.804562</td>\n",
       "      <td>-122.271738</td>\n",
       "      <td>182.0</td>\n",
       "      <td>19th Street BART Station</td>\n",
       "      <td>37.809013</td>\n",
       "      <td>-122.268247</td>\n",
       "      <td>2037</td>\n",
       "      <td>Subscriber</td>\n",
       "      <td>1954.0</td>\n",
       "      <td>Male</td>\n",
       "      <td>No</td>\n",
       "    </tr>\n",
       "    <tr>\n",
       "      <th>92858</th>\n",
       "      <td>238</td>\n",
       "      <td>2019-02-15 18:21:26.4660</td>\n",
       "      <td>2019-02-15 18:25:24.8160</td>\n",
       "      <td>343.0</td>\n",
       "      <td>Bryant St at 2nd St</td>\n",
       "      <td>37.783172</td>\n",
       "      <td>-122.393572</td>\n",
       "      <td>27.0</td>\n",
       "      <td>Beale St at Harrison St</td>\n",
       "      <td>37.788059</td>\n",
       "      <td>-122.391865</td>\n",
       "      <td>903</td>\n",
       "      <td>Subscriber</td>\n",
       "      <td>1984.0</td>\n",
       "      <td>Female</td>\n",
       "      <td>No</td>\n",
       "    </tr>\n",
       "    <tr>\n",
       "      <th>122195</th>\n",
       "      <td>955</td>\n",
       "      <td>2019-02-11 12:31:08.2100</td>\n",
       "      <td>2019-02-11 12:47:03.2360</td>\n",
       "      <td>181.0</td>\n",
       "      <td>Grand Ave at Webster St</td>\n",
       "      <td>37.811377</td>\n",
       "      <td>-122.265192</td>\n",
       "      <td>155.0</td>\n",
       "      <td>Emeryville Public Market</td>\n",
       "      <td>37.840521</td>\n",
       "      <td>-122.293528</td>\n",
       "      <td>4642</td>\n",
       "      <td>Subscriber</td>\n",
       "      <td>1982.0</td>\n",
       "      <td>Male</td>\n",
       "      <td>No</td>\n",
       "    </tr>\n",
       "    <tr>\n",
       "      <th>13147</th>\n",
       "      <td>508</td>\n",
       "      <td>2019-02-27 16:46:29.9200</td>\n",
       "      <td>2019-02-27 16:54:58.8650</td>\n",
       "      <td>59.0</td>\n",
       "      <td>S Van Ness Ave at Market St</td>\n",
       "      <td>37.774814</td>\n",
       "      <td>-122.418954</td>\n",
       "      <td>73.0</td>\n",
       "      <td>Pierce St at Haight St</td>\n",
       "      <td>37.771793</td>\n",
       "      <td>-122.433708</td>\n",
       "      <td>4968</td>\n",
       "      <td>Subscriber</td>\n",
       "      <td>1988.0</td>\n",
       "      <td>Male</td>\n",
       "      <td>No</td>\n",
       "    </tr>\n",
       "    <tr>\n",
       "      <th>163375</th>\n",
       "      <td>491</td>\n",
       "      <td>2019-02-05 09:20:53.5220</td>\n",
       "      <td>2019-02-05 09:29:04.5340</td>\n",
       "      <td>61.0</td>\n",
       "      <td>Howard St at 8th St</td>\n",
       "      <td>37.776513</td>\n",
       "      <td>-122.411306</td>\n",
       "      <td>64.0</td>\n",
       "      <td>5th St at Brannan St</td>\n",
       "      <td>37.776754</td>\n",
       "      <td>-122.399018</td>\n",
       "      <td>2889</td>\n",
       "      <td>Subscriber</td>\n",
       "      <td>1990.0</td>\n",
       "      <td>Female</td>\n",
       "      <td>No</td>\n",
       "    </tr>\n",
       "    <tr>\n",
       "      <th>42119</th>\n",
       "      <td>319</td>\n",
       "      <td>2019-02-22 17:53:27.9860</td>\n",
       "      <td>2019-02-22 17:58:47.0580</td>\n",
       "      <td>176.0</td>\n",
       "      <td>MacArthur BART Station</td>\n",
       "      <td>37.828410</td>\n",
       "      <td>-122.266315</td>\n",
       "      <td>214.0</td>\n",
       "      <td>Market St at Brockhurst St</td>\n",
       "      <td>37.823321</td>\n",
       "      <td>-122.275732</td>\n",
       "      <td>3404</td>\n",
       "      <td>Subscriber</td>\n",
       "      <td>1986.0</td>\n",
       "      <td>Female</td>\n",
       "      <td>No</td>\n",
       "    </tr>\n",
       "    <tr>\n",
       "      <th>28690</th>\n",
       "      <td>1210</td>\n",
       "      <td>2019-02-25 08:15:47.1170</td>\n",
       "      <td>2019-02-25 08:35:57.2060</td>\n",
       "      <td>56.0</td>\n",
       "      <td>Koshland Park</td>\n",
       "      <td>37.773414</td>\n",
       "      <td>-122.427317</td>\n",
       "      <td>6.0</td>\n",
       "      <td>The Embarcadero at Sansome St</td>\n",
       "      <td>37.804770</td>\n",
       "      <td>-122.403234</td>\n",
       "      <td>6260</td>\n",
       "      <td>Subscriber</td>\n",
       "      <td>1987.0</td>\n",
       "      <td>Male</td>\n",
       "      <td>No</td>\n",
       "    </tr>\n",
       "    <tr>\n",
       "      <th>82463</th>\n",
       "      <td>200</td>\n",
       "      <td>2019-02-18 10:09:25.3460</td>\n",
       "      <td>2019-02-18 10:12:45.5840</td>\n",
       "      <td>61.0</td>\n",
       "      <td>Howard St at 8th St</td>\n",
       "      <td>37.776513</td>\n",
       "      <td>-122.411306</td>\n",
       "      <td>350.0</td>\n",
       "      <td>8th St at Brannan St</td>\n",
       "      <td>37.771431</td>\n",
       "      <td>-122.405787</td>\n",
       "      <td>5408</td>\n",
       "      <td>Customer</td>\n",
       "      <td>1996.0</td>\n",
       "      <td>Male</td>\n",
       "      <td>No</td>\n",
       "    </tr>\n",
       "    <tr>\n",
       "      <th>16997</th>\n",
       "      <td>390</td>\n",
       "      <td>2019-02-27 07:49:38.9940</td>\n",
       "      <td>2019-02-27 07:56:09.5790</td>\n",
       "      <td>27.0</td>\n",
       "      <td>Beale St at Harrison St</td>\n",
       "      <td>37.788059</td>\n",
       "      <td>-122.391865</td>\n",
       "      <td>30.0</td>\n",
       "      <td>San Francisco Caltrain (Townsend St at 4th St)</td>\n",
       "      <td>37.776598</td>\n",
       "      <td>-122.395282</td>\n",
       "      <td>5541</td>\n",
       "      <td>Subscriber</td>\n",
       "      <td>1984.0</td>\n",
       "      <td>Male</td>\n",
       "      <td>No</td>\n",
       "    </tr>\n",
       "    <tr>\n",
       "      <th>152180</th>\n",
       "      <td>880</td>\n",
       "      <td>2019-02-06 16:11:56.7780</td>\n",
       "      <td>2019-02-06 16:26:37.0830</td>\n",
       "      <td>81.0</td>\n",
       "      <td>Berry St at 4th St</td>\n",
       "      <td>37.775880</td>\n",
       "      <td>-122.393170</td>\n",
       "      <td>15.0</td>\n",
       "      <td>San Francisco Ferry Building (Harry Bridges Pl...</td>\n",
       "      <td>37.795392</td>\n",
       "      <td>-122.394203</td>\n",
       "      <td>5331</td>\n",
       "      <td>Subscriber</td>\n",
       "      <td>1991.0</td>\n",
       "      <td>Female</td>\n",
       "      <td>No</td>\n",
       "    </tr>\n",
       "    <tr>\n",
       "      <th>83986</th>\n",
       "      <td>1401</td>\n",
       "      <td>2019-02-17 19:08:52.3790</td>\n",
       "      <td>2019-02-17 19:32:14.0750</td>\n",
       "      <td>44.0</td>\n",
       "      <td>Civic Center/UN Plaza BART Station (Market St ...</td>\n",
       "      <td>37.781074</td>\n",
       "      <td>-122.411738</td>\n",
       "      <td>64.0</td>\n",
       "      <td>5th St at Brannan St</td>\n",
       "      <td>37.776754</td>\n",
       "      <td>-122.399018</td>\n",
       "      <td>6266</td>\n",
       "      <td>Subscriber</td>\n",
       "      <td>1985.0</td>\n",
       "      <td>Male</td>\n",
       "      <td>No</td>\n",
       "    </tr>\n",
       "    <tr>\n",
       "      <th>139744</th>\n",
       "      <td>346</td>\n",
       "      <td>2019-02-07 20:27:57.3270</td>\n",
       "      <td>2019-02-07 20:33:43.4560</td>\n",
       "      <td>238.0</td>\n",
       "      <td>MLK Jr Way at University Ave</td>\n",
       "      <td>37.871719</td>\n",
       "      <td>-122.273068</td>\n",
       "      <td>250.0</td>\n",
       "      <td>North Berkeley BART Station</td>\n",
       "      <td>37.873558</td>\n",
       "      <td>-122.283093</td>\n",
       "      <td>4493</td>\n",
       "      <td>Subscriber</td>\n",
       "      <td>1979.0</td>\n",
       "      <td>Male</td>\n",
       "      <td>No</td>\n",
       "    </tr>\n",
       "    <tr>\n",
       "      <th>9973</th>\n",
       "      <td>329</td>\n",
       "      <td>2019-02-27 22:31:11.0960</td>\n",
       "      <td>2019-02-27 22:36:40.2610</td>\n",
       "      <td>121.0</td>\n",
       "      <td>Mission Playground</td>\n",
       "      <td>37.759210</td>\n",
       "      <td>-122.421339</td>\n",
       "      <td>99.0</td>\n",
       "      <td>Folsom St at 15th St</td>\n",
       "      <td>37.767037</td>\n",
       "      <td>-122.415443</td>\n",
       "      <td>5332</td>\n",
       "      <td>Subscriber</td>\n",
       "      <td>1981.0</td>\n",
       "      <td>Male</td>\n",
       "      <td>Yes</td>\n",
       "    </tr>\n",
       "    <tr>\n",
       "      <th>12163</th>\n",
       "      <td>361</td>\n",
       "      <td>2019-02-27 17:53:03.0270</td>\n",
       "      <td>2019-02-27 17:59:04.7770</td>\n",
       "      <td>47.0</td>\n",
       "      <td>4th St at Harrison St</td>\n",
       "      <td>37.780955</td>\n",
       "      <td>-122.399749</td>\n",
       "      <td>93.0</td>\n",
       "      <td>4th St at Mission Bay Blvd S</td>\n",
       "      <td>37.770407</td>\n",
       "      <td>-122.391198</td>\n",
       "      <td>1684</td>\n",
       "      <td>Subscriber</td>\n",
       "      <td>1982.0</td>\n",
       "      <td>Male</td>\n",
       "      <td>No</td>\n",
       "    </tr>\n",
       "    <tr>\n",
       "      <th>148836</th>\n",
       "      <td>981</td>\n",
       "      <td>2019-02-06 20:27:24.3080</td>\n",
       "      <td>2019-02-06 20:43:45.8740</td>\n",
       "      <td>73.0</td>\n",
       "      <td>Pierce St at Haight St</td>\n",
       "      <td>37.771793</td>\n",
       "      <td>-122.433708</td>\n",
       "      <td>33.0</td>\n",
       "      <td>Golden Gate Ave at Hyde St</td>\n",
       "      <td>37.781650</td>\n",
       "      <td>-122.415408</td>\n",
       "      <td>4657</td>\n",
       "      <td>Subscriber</td>\n",
       "      <td>1980.0</td>\n",
       "      <td>Male</td>\n",
       "      <td>No</td>\n",
       "    </tr>\n",
       "    <tr>\n",
       "      <th>173639</th>\n",
       "      <td>118</td>\n",
       "      <td>2019-02-03 10:21:41.5650</td>\n",
       "      <td>2019-02-03 10:23:39.7020</td>\n",
       "      <td>356.0</td>\n",
       "      <td>Valencia St at Clinton Park</td>\n",
       "      <td>37.769188</td>\n",
       "      <td>-122.422285</td>\n",
       "      <td>87.0</td>\n",
       "      <td>Folsom St at 13th St</td>\n",
       "      <td>37.769757</td>\n",
       "      <td>-122.415674</td>\n",
       "      <td>4850</td>\n",
       "      <td>Subscriber</td>\n",
       "      <td>1988.0</td>\n",
       "      <td>Male</td>\n",
       "      <td>No</td>\n",
       "    </tr>\n",
       "    <tr>\n",
       "      <th>11727</th>\n",
       "      <td>446</td>\n",
       "      <td>2019-02-27 18:20:07.3960</td>\n",
       "      <td>2019-02-27 18:27:34.3740</td>\n",
       "      <td>60.0</td>\n",
       "      <td>8th St at Ringold St</td>\n",
       "      <td>37.774520</td>\n",
       "      <td>-122.409449</td>\n",
       "      <td>113.0</td>\n",
       "      <td>Franklin Square</td>\n",
       "      <td>37.764555</td>\n",
       "      <td>-122.410345</td>\n",
       "      <td>6335</td>\n",
       "      <td>Subscriber</td>\n",
       "      <td>1992.0</td>\n",
       "      <td>Male</td>\n",
       "      <td>No</td>\n",
       "    </tr>\n",
       "    <tr>\n",
       "      <th>141163</th>\n",
       "      <td>371</td>\n",
       "      <td>2019-02-07 18:16:56.4870</td>\n",
       "      <td>2019-02-07 18:23:08.4150</td>\n",
       "      <td>308.0</td>\n",
       "      <td>San Pedro Square</td>\n",
       "      <td>37.336802</td>\n",
       "      <td>-121.894090</td>\n",
       "      <td>312.0</td>\n",
       "      <td>San Jose Diridon Station</td>\n",
       "      <td>37.329732</td>\n",
       "      <td>-121.901782</td>\n",
       "      <td>4049</td>\n",
       "      <td>Subscriber</td>\n",
       "      <td>1967.0</td>\n",
       "      <td>Male</td>\n",
       "      <td>No</td>\n",
       "    </tr>\n",
       "    <tr>\n",
       "      <th>95179</th>\n",
       "      <td>707</td>\n",
       "      <td>2019-02-15 14:40:32.0710</td>\n",
       "      <td>2019-02-15 14:52:19.2000</td>\n",
       "      <td>80.0</td>\n",
       "      <td>Townsend St at 5th St</td>\n",
       "      <td>37.775235</td>\n",
       "      <td>-122.397437</td>\n",
       "      <td>368.0</td>\n",
       "      <td>Myrtle St at Polk St</td>\n",
       "      <td>37.785434</td>\n",
       "      <td>-122.419622</td>\n",
       "      <td>4575</td>\n",
       "      <td>Subscriber</td>\n",
       "      <td>1986.0</td>\n",
       "      <td>Female</td>\n",
       "      <td>No</td>\n",
       "    </tr>\n",
       "    <tr>\n",
       "      <th>83714</th>\n",
       "      <td>1061</td>\n",
       "      <td>2019-02-17 20:58:48.7280</td>\n",
       "      <td>2019-02-17 21:16:30.7030</td>\n",
       "      <td>6.0</td>\n",
       "      <td>The Embarcadero at Sansome St</td>\n",
       "      <td>37.804770</td>\n",
       "      <td>-122.403234</td>\n",
       "      <td>15.0</td>\n",
       "      <td>San Francisco Ferry Building (Harry Bridges Pl...</td>\n",
       "      <td>37.795392</td>\n",
       "      <td>-122.394203</td>\n",
       "      <td>1506</td>\n",
       "      <td>Customer</td>\n",
       "      <td>2000.0</td>\n",
       "      <td>Male</td>\n",
       "      <td>No</td>\n",
       "    </tr>\n",
       "    <tr>\n",
       "      <th>33866</th>\n",
       "      <td>347</td>\n",
       "      <td>2019-02-24 10:23:27.8160</td>\n",
       "      <td>2019-02-24 10:29:15.1980</td>\n",
       "      <td>132.0</td>\n",
       "      <td>24th St at Chattanooga St</td>\n",
       "      <td>37.751819</td>\n",
       "      <td>-122.426614</td>\n",
       "      <td>106.0</td>\n",
       "      <td>Sanchez St at 17th St</td>\n",
       "      <td>37.763242</td>\n",
       "      <td>-122.430675</td>\n",
       "      <td>5558</td>\n",
       "      <td>Subscriber</td>\n",
       "      <td>1995.0</td>\n",
       "      <td>Female</td>\n",
       "      <td>No</td>\n",
       "    </tr>\n",
       "    <tr>\n",
       "      <th>146678</th>\n",
       "      <td>342</td>\n",
       "      <td>2019-02-07 08:35:42.7680</td>\n",
       "      <td>2019-02-07 08:41:25.1910</td>\n",
       "      <td>200.0</td>\n",
       "      <td>2nd Ave at E 18th St</td>\n",
       "      <td>37.800214</td>\n",
       "      <td>-122.253810</td>\n",
       "      <td>201.0</td>\n",
       "      <td>10th St at Fallon St</td>\n",
       "      <td>37.797673</td>\n",
       "      <td>-122.262997</td>\n",
       "      <td>3501</td>\n",
       "      <td>Subscriber</td>\n",
       "      <td>1994.0</td>\n",
       "      <td>Male</td>\n",
       "      <td>No</td>\n",
       "    </tr>\n",
       "    <tr>\n",
       "      <th>21001</th>\n",
       "      <td>550</td>\n",
       "      <td>2019-02-26 09:49:39.1890</td>\n",
       "      <td>2019-02-26 09:58:49.8780</td>\n",
       "      <td>17.0</td>\n",
       "      <td>Embarcadero BART Station (Beale St at Market St)</td>\n",
       "      <td>37.792251</td>\n",
       "      <td>-122.397086</td>\n",
       "      <td>81.0</td>\n",
       "      <td>Berry St at 4th St</td>\n",
       "      <td>37.775880</td>\n",
       "      <td>-122.393170</td>\n",
       "      <td>4639</td>\n",
       "      <td>Subscriber</td>\n",
       "      <td>1985.0</td>\n",
       "      <td>Female</td>\n",
       "      <td>No</td>\n",
       "    </tr>\n",
       "    <tr>\n",
       "      <th>17559</th>\n",
       "      <td>288</td>\n",
       "      <td>2019-02-26 23:18:04.4750</td>\n",
       "      <td>2019-02-26 23:22:53.1770</td>\n",
       "      <td>74.0</td>\n",
       "      <td>Laguna St at Hayes St</td>\n",
       "      <td>37.776435</td>\n",
       "      <td>-122.426244</td>\n",
       "      <td>43.0</td>\n",
       "      <td>San Francisco Public Library (Grove St at Hyde...</td>\n",
       "      <td>37.778768</td>\n",
       "      <td>-122.415929</td>\n",
       "      <td>5469</td>\n",
       "      <td>Subscriber</td>\n",
       "      <td>1982.0</td>\n",
       "      <td>Male</td>\n",
       "      <td>Yes</td>\n",
       "    </tr>\n",
       "    <tr>\n",
       "      <th>173155</th>\n",
       "      <td>548</td>\n",
       "      <td>2019-02-03 13:08:47.2770</td>\n",
       "      <td>2019-02-03 13:17:56.0020</td>\n",
       "      <td>73.0</td>\n",
       "      <td>Pierce St at Haight St</td>\n",
       "      <td>37.771793</td>\n",
       "      <td>-122.433708</td>\n",
       "      <td>43.0</td>\n",
       "      <td>San Francisco Public Library (Grove St at Hyde...</td>\n",
       "      <td>37.778768</td>\n",
       "      <td>-122.415929</td>\n",
       "      <td>5228</td>\n",
       "      <td>Subscriber</td>\n",
       "      <td>1984.0</td>\n",
       "      <td>Male</td>\n",
       "      <td>No</td>\n",
       "    </tr>\n",
       "    <tr>\n",
       "      <th>15678</th>\n",
       "      <td>247</td>\n",
       "      <td>2019-02-27 09:15:30.7360</td>\n",
       "      <td>2019-02-27 09:19:37.9710</td>\n",
       "      <td>93.0</td>\n",
       "      <td>4th St at Mission Bay Blvd S</td>\n",
       "      <td>37.770407</td>\n",
       "      <td>-122.391198</td>\n",
       "      <td>126.0</td>\n",
       "      <td>Esprit Park</td>\n",
       "      <td>37.761634</td>\n",
       "      <td>-122.390648</td>\n",
       "      <td>5790</td>\n",
       "      <td>Subscriber</td>\n",
       "      <td>1987.0</td>\n",
       "      <td>Male</td>\n",
       "      <td>No</td>\n",
       "    </tr>\n",
       "    <tr>\n",
       "      <th>36235</th>\n",
       "      <td>812</td>\n",
       "      <td>2019-02-23 16:34:59.9770</td>\n",
       "      <td>2019-02-23 16:48:32.5750</td>\n",
       "      <td>5.0</td>\n",
       "      <td>Powell St BART Station (Market St at 5th St)</td>\n",
       "      <td>37.783899</td>\n",
       "      <td>-122.408445</td>\n",
       "      <td>124.0</td>\n",
       "      <td>19th St at Florida St</td>\n",
       "      <td>37.760447</td>\n",
       "      <td>-122.410807</td>\n",
       "      <td>6463</td>\n",
       "      <td>Customer</td>\n",
       "      <td>1983.0</td>\n",
       "      <td>Male</td>\n",
       "      <td>No</td>\n",
       "    </tr>\n",
       "    <tr>\n",
       "      <th>11698</th>\n",
       "      <td>399</td>\n",
       "      <td>2019-02-27 18:22:18.4260</td>\n",
       "      <td>2019-02-27 18:28:58.0480</td>\n",
       "      <td>312.0</td>\n",
       "      <td>San Jose Diridon Station</td>\n",
       "      <td>37.329732</td>\n",
       "      <td>-121.901782</td>\n",
       "      <td>311.0</td>\n",
       "      <td>Paseo De San Antonio at 2nd St</td>\n",
       "      <td>37.333798</td>\n",
       "      <td>-121.886943</td>\n",
       "      <td>6625</td>\n",
       "      <td>Subscriber</td>\n",
       "      <td>1982.0</td>\n",
       "      <td>Male</td>\n",
       "      <td>No</td>\n",
       "    </tr>\n",
       "    <tr>\n",
       "      <th>94326</th>\n",
       "      <td>1616</td>\n",
       "      <td>2019-02-15 16:18:15.0290</td>\n",
       "      <td>2019-02-15 16:45:11.1600</td>\n",
       "      <td>36.0</td>\n",
       "      <td>Folsom St at 3rd St</td>\n",
       "      <td>37.783830</td>\n",
       "      <td>-122.398870</td>\n",
       "      <td>375.0</td>\n",
       "      <td>Grove St at Masonic Ave</td>\n",
       "      <td>37.774836</td>\n",
       "      <td>-122.446546</td>\n",
       "      <td>6443</td>\n",
       "      <td>Subscriber</td>\n",
       "      <td>1900.0</td>\n",
       "      <td>Male</td>\n",
       "      <td>No</td>\n",
       "    </tr>\n",
       "    <tr>\n",
       "      <th>16251</th>\n",
       "      <td>374</td>\n",
       "      <td>2019-02-27 08:42:39.0650</td>\n",
       "      <td>2019-02-27 08:48:53.5900</td>\n",
       "      <td>23.0</td>\n",
       "      <td>The Embarcadero at Steuart St</td>\n",
       "      <td>37.791464</td>\n",
       "      <td>-122.391034</td>\n",
       "      <td>81.0</td>\n",
       "      <td>Berry St at 4th St</td>\n",
       "      <td>37.775880</td>\n",
       "      <td>-122.393170</td>\n",
       "      <td>5426</td>\n",
       "      <td>Subscriber</td>\n",
       "      <td>1971.0</td>\n",
       "      <td>Male</td>\n",
       "      <td>No</td>\n",
       "    </tr>\n",
       "  </tbody>\n",
       "</table>\n",
       "</div>"
      ],
      "text/plain": [
       "        duration_sec                start_time                  end_time  \\\n",
       "142494           248  2019-02-07 17:07:22.0020  2019-02-07 17:11:30.1130   \n",
       "92858            238  2019-02-15 18:21:26.4660  2019-02-15 18:25:24.8160   \n",
       "122195           955  2019-02-11 12:31:08.2100  2019-02-11 12:47:03.2360   \n",
       "13147            508  2019-02-27 16:46:29.9200  2019-02-27 16:54:58.8650   \n",
       "163375           491  2019-02-05 09:20:53.5220  2019-02-05 09:29:04.5340   \n",
       "42119            319  2019-02-22 17:53:27.9860  2019-02-22 17:58:47.0580   \n",
       "28690           1210  2019-02-25 08:15:47.1170  2019-02-25 08:35:57.2060   \n",
       "82463            200  2019-02-18 10:09:25.3460  2019-02-18 10:12:45.5840   \n",
       "16997            390  2019-02-27 07:49:38.9940  2019-02-27 07:56:09.5790   \n",
       "152180           880  2019-02-06 16:11:56.7780  2019-02-06 16:26:37.0830   \n",
       "83986           1401  2019-02-17 19:08:52.3790  2019-02-17 19:32:14.0750   \n",
       "139744           346  2019-02-07 20:27:57.3270  2019-02-07 20:33:43.4560   \n",
       "9973             329  2019-02-27 22:31:11.0960  2019-02-27 22:36:40.2610   \n",
       "12163            361  2019-02-27 17:53:03.0270  2019-02-27 17:59:04.7770   \n",
       "148836           981  2019-02-06 20:27:24.3080  2019-02-06 20:43:45.8740   \n",
       "173639           118  2019-02-03 10:21:41.5650  2019-02-03 10:23:39.7020   \n",
       "11727            446  2019-02-27 18:20:07.3960  2019-02-27 18:27:34.3740   \n",
       "141163           371  2019-02-07 18:16:56.4870  2019-02-07 18:23:08.4150   \n",
       "95179            707  2019-02-15 14:40:32.0710  2019-02-15 14:52:19.2000   \n",
       "83714           1061  2019-02-17 20:58:48.7280  2019-02-17 21:16:30.7030   \n",
       "33866            347  2019-02-24 10:23:27.8160  2019-02-24 10:29:15.1980   \n",
       "146678           342  2019-02-07 08:35:42.7680  2019-02-07 08:41:25.1910   \n",
       "21001            550  2019-02-26 09:49:39.1890  2019-02-26 09:58:49.8780   \n",
       "17559            288  2019-02-26 23:18:04.4750  2019-02-26 23:22:53.1770   \n",
       "173155           548  2019-02-03 13:08:47.2770  2019-02-03 13:17:56.0020   \n",
       "15678            247  2019-02-27 09:15:30.7360  2019-02-27 09:19:37.9710   \n",
       "36235            812  2019-02-23 16:34:59.9770  2019-02-23 16:48:32.5750   \n",
       "11698            399  2019-02-27 18:22:18.4260  2019-02-27 18:28:58.0480   \n",
       "94326           1616  2019-02-15 16:18:15.0290  2019-02-15 16:45:11.1600   \n",
       "16251            374  2019-02-27 08:42:39.0650  2019-02-27 08:48:53.5900   \n",
       "\n",
       "        start_station_id                                 start_station_name  \\\n",
       "142494               7.0                                Frank H Ogawa Plaza   \n",
       "92858              343.0                                Bryant St at 2nd St   \n",
       "122195             181.0                            Grand Ave at Webster St   \n",
       "13147               59.0                        S Van Ness Ave at Market St   \n",
       "163375              61.0                                Howard St at 8th St   \n",
       "42119              176.0                             MacArthur BART Station   \n",
       "28690               56.0                                      Koshland Park   \n",
       "82463               61.0                                Howard St at 8th St   \n",
       "16997               27.0                            Beale St at Harrison St   \n",
       "152180              81.0                                 Berry St at 4th St   \n",
       "83986               44.0  Civic Center/UN Plaza BART Station (Market St ...   \n",
       "139744             238.0                       MLK Jr Way at University Ave   \n",
       "9973               121.0                                 Mission Playground   \n",
       "12163               47.0                              4th St at Harrison St   \n",
       "148836              73.0                             Pierce St at Haight St   \n",
       "173639             356.0                        Valencia St at Clinton Park   \n",
       "11727               60.0                               8th St at Ringold St   \n",
       "141163             308.0                                   San Pedro Square   \n",
       "95179               80.0                              Townsend St at 5th St   \n",
       "83714                6.0                      The Embarcadero at Sansome St   \n",
       "33866              132.0                          24th St at Chattanooga St   \n",
       "146678             200.0                               2nd Ave at E 18th St   \n",
       "21001               17.0   Embarcadero BART Station (Beale St at Market St)   \n",
       "17559               74.0                              Laguna St at Hayes St   \n",
       "173155              73.0                             Pierce St at Haight St   \n",
       "15678               93.0                       4th St at Mission Bay Blvd S   \n",
       "36235                5.0       Powell St BART Station (Market St at 5th St)   \n",
       "11698              312.0                           San Jose Diridon Station   \n",
       "94326               36.0                                Folsom St at 3rd St   \n",
       "16251               23.0                      The Embarcadero at Steuart St   \n",
       "\n",
       "        start_station_latitude  start_station_longitude  end_station_id  \\\n",
       "142494               37.804562              -122.271738           182.0   \n",
       "92858                37.783172              -122.393572            27.0   \n",
       "122195               37.811377              -122.265192           155.0   \n",
       "13147                37.774814              -122.418954            73.0   \n",
       "163375               37.776513              -122.411306            64.0   \n",
       "42119                37.828410              -122.266315           214.0   \n",
       "28690                37.773414              -122.427317             6.0   \n",
       "82463                37.776513              -122.411306           350.0   \n",
       "16997                37.788059              -122.391865            30.0   \n",
       "152180               37.775880              -122.393170            15.0   \n",
       "83986                37.781074              -122.411738            64.0   \n",
       "139744               37.871719              -122.273068           250.0   \n",
       "9973                 37.759210              -122.421339            99.0   \n",
       "12163                37.780955              -122.399749            93.0   \n",
       "148836               37.771793              -122.433708            33.0   \n",
       "173639               37.769188              -122.422285            87.0   \n",
       "11727                37.774520              -122.409449           113.0   \n",
       "141163               37.336802              -121.894090           312.0   \n",
       "95179                37.775235              -122.397437           368.0   \n",
       "83714                37.804770              -122.403234            15.0   \n",
       "33866                37.751819              -122.426614           106.0   \n",
       "146678               37.800214              -122.253810           201.0   \n",
       "21001                37.792251              -122.397086            81.0   \n",
       "17559                37.776435              -122.426244            43.0   \n",
       "173155               37.771793              -122.433708            43.0   \n",
       "15678                37.770407              -122.391198           126.0   \n",
       "36235                37.783899              -122.408445           124.0   \n",
       "11698                37.329732              -121.901782           311.0   \n",
       "94326                37.783830              -122.398870           375.0   \n",
       "16251                37.791464              -122.391034            81.0   \n",
       "\n",
       "                                         end_station_name  \\\n",
       "142494                           19th Street BART Station   \n",
       "92858                             Beale St at Harrison St   \n",
       "122195                           Emeryville Public Market   \n",
       "13147                              Pierce St at Haight St   \n",
       "163375                               5th St at Brannan St   \n",
       "42119                          Market St at Brockhurst St   \n",
       "28690                       The Embarcadero at Sansome St   \n",
       "82463                                8th St at Brannan St   \n",
       "16997      San Francisco Caltrain (Townsend St at 4th St)   \n",
       "152180  San Francisco Ferry Building (Harry Bridges Pl...   \n",
       "83986                                5th St at Brannan St   \n",
       "139744                        North Berkeley BART Station   \n",
       "9973                                 Folsom St at 15th St   \n",
       "12163                        4th St at Mission Bay Blvd S   \n",
       "148836                         Golden Gate Ave at Hyde St   \n",
       "173639                               Folsom St at 13th St   \n",
       "11727                                     Franklin Square   \n",
       "141163                           San Jose Diridon Station   \n",
       "95179                                Myrtle St at Polk St   \n",
       "83714   San Francisco Ferry Building (Harry Bridges Pl...   \n",
       "33866                               Sanchez St at 17th St   \n",
       "146678                               10th St at Fallon St   \n",
       "21001                                  Berry St at 4th St   \n",
       "17559   San Francisco Public Library (Grove St at Hyde...   \n",
       "173155  San Francisco Public Library (Grove St at Hyde...   \n",
       "15678                                         Esprit Park   \n",
       "36235                               19th St at Florida St   \n",
       "11698                      Paseo De San Antonio at 2nd St   \n",
       "94326                             Grove St at Masonic Ave   \n",
       "16251                                  Berry St at 4th St   \n",
       "\n",
       "        end_station_latitude  end_station_longitude  bike_id   user_type  \\\n",
       "142494             37.809013            -122.268247     2037  Subscriber   \n",
       "92858              37.788059            -122.391865      903  Subscriber   \n",
       "122195             37.840521            -122.293528     4642  Subscriber   \n",
       "13147              37.771793            -122.433708     4968  Subscriber   \n",
       "163375             37.776754            -122.399018     2889  Subscriber   \n",
       "42119              37.823321            -122.275732     3404  Subscriber   \n",
       "28690              37.804770            -122.403234     6260  Subscriber   \n",
       "82463              37.771431            -122.405787     5408    Customer   \n",
       "16997              37.776598            -122.395282     5541  Subscriber   \n",
       "152180             37.795392            -122.394203     5331  Subscriber   \n",
       "83986              37.776754            -122.399018     6266  Subscriber   \n",
       "139744             37.873558            -122.283093     4493  Subscriber   \n",
       "9973               37.767037            -122.415443     5332  Subscriber   \n",
       "12163              37.770407            -122.391198     1684  Subscriber   \n",
       "148836             37.781650            -122.415408     4657  Subscriber   \n",
       "173639             37.769757            -122.415674     4850  Subscriber   \n",
       "11727              37.764555            -122.410345     6335  Subscriber   \n",
       "141163             37.329732            -121.901782     4049  Subscriber   \n",
       "95179              37.785434            -122.419622     4575  Subscriber   \n",
       "83714              37.795392            -122.394203     1506    Customer   \n",
       "33866              37.763242            -122.430675     5558  Subscriber   \n",
       "146678             37.797673            -122.262997     3501  Subscriber   \n",
       "21001              37.775880            -122.393170     4639  Subscriber   \n",
       "17559              37.778768            -122.415929     5469  Subscriber   \n",
       "173155             37.778768            -122.415929     5228  Subscriber   \n",
       "15678              37.761634            -122.390648     5790  Subscriber   \n",
       "36235              37.760447            -122.410807     6463    Customer   \n",
       "11698              37.333798            -121.886943     6625  Subscriber   \n",
       "94326              37.774836            -122.446546     6443  Subscriber   \n",
       "16251              37.775880            -122.393170     5426  Subscriber   \n",
       "\n",
       "        member_birth_year member_gender bike_share_for_all_trip  \n",
       "142494             1954.0          Male                      No  \n",
       "92858              1984.0        Female                      No  \n",
       "122195             1982.0          Male                      No  \n",
       "13147              1988.0          Male                      No  \n",
       "163375             1990.0        Female                      No  \n",
       "42119              1986.0        Female                      No  \n",
       "28690              1987.0          Male                      No  \n",
       "82463              1996.0          Male                      No  \n",
       "16997              1984.0          Male                      No  \n",
       "152180             1991.0        Female                      No  \n",
       "83986              1985.0          Male                      No  \n",
       "139744             1979.0          Male                      No  \n",
       "9973               1981.0          Male                     Yes  \n",
       "12163              1982.0          Male                      No  \n",
       "148836             1980.0          Male                      No  \n",
       "173639             1988.0          Male                      No  \n",
       "11727              1992.0          Male                      No  \n",
       "141163             1967.0          Male                      No  \n",
       "95179              1986.0        Female                      No  \n",
       "83714              2000.0          Male                      No  \n",
       "33866              1995.0        Female                      No  \n",
       "146678             1994.0          Male                      No  \n",
       "21001              1985.0        Female                      No  \n",
       "17559              1982.0          Male                     Yes  \n",
       "173155             1984.0          Male                      No  \n",
       "15678              1987.0          Male                      No  \n",
       "36235              1983.0          Male                      No  \n",
       "11698              1982.0          Male                      No  \n",
       "94326              1900.0          Male                      No  \n",
       "16251              1971.0          Male                      No  "
      ]
     },
     "execution_count": 114,
     "metadata": {},
     "output_type": "execute_result"
    }
   ],
   "source": [
    "df.sample(30)"
   ]
  },
  {
   "cell_type": "code",
   "execution_count": 115,
   "metadata": {},
   "outputs": [
    {
     "data": {
      "text/plain": [
       "duration_sec                  0\n",
       "start_time                    0\n",
       "end_time                      0\n",
       "start_station_id            197\n",
       "start_station_name          197\n",
       "start_station_latitude        0\n",
       "start_station_longitude       0\n",
       "end_station_id              197\n",
       "end_station_name            197\n",
       "end_station_latitude          0\n",
       "end_station_longitude         0\n",
       "bike_id                       0\n",
       "user_type                     0\n",
       "member_birth_year          8265\n",
       "member_gender              8265\n",
       "bike_share_for_all_trip       0\n",
       "dtype: int64"
      ]
     },
     "execution_count": 115,
     "metadata": {},
     "output_type": "execute_result"
    }
   ],
   "source": [
    "df.isnull().sum()"
   ]
  },
  {
   "cell_type": "code",
   "execution_count": 116,
   "metadata": {},
   "outputs": [
    {
     "data": {
      "text/html": [
       "<div>\n",
       "<style scoped>\n",
       "    .dataframe tbody tr th:only-of-type {\n",
       "        vertical-align: middle;\n",
       "    }\n",
       "\n",
       "    .dataframe tbody tr th {\n",
       "        vertical-align: top;\n",
       "    }\n",
       "\n",
       "    .dataframe thead th {\n",
       "        text-align: right;\n",
       "    }\n",
       "</style>\n",
       "<table border=\"1\" class=\"dataframe\">\n",
       "  <thead>\n",
       "    <tr style=\"text-align: right;\">\n",
       "      <th></th>\n",
       "      <th>duration_sec</th>\n",
       "      <th>start_station_id</th>\n",
       "      <th>start_station_latitude</th>\n",
       "      <th>start_station_longitude</th>\n",
       "      <th>end_station_id</th>\n",
       "      <th>end_station_latitude</th>\n",
       "      <th>end_station_longitude</th>\n",
       "      <th>bike_id</th>\n",
       "      <th>member_birth_year</th>\n",
       "    </tr>\n",
       "  </thead>\n",
       "  <tbody>\n",
       "    <tr>\n",
       "      <th>count</th>\n",
       "      <td>183412.000000</td>\n",
       "      <td>183215.000000</td>\n",
       "      <td>183412.000000</td>\n",
       "      <td>183412.000000</td>\n",
       "      <td>183215.000000</td>\n",
       "      <td>183412.000000</td>\n",
       "      <td>183412.000000</td>\n",
       "      <td>183412.000000</td>\n",
       "      <td>175147.000000</td>\n",
       "    </tr>\n",
       "    <tr>\n",
       "      <th>mean</th>\n",
       "      <td>726.078435</td>\n",
       "      <td>138.590427</td>\n",
       "      <td>37.771223</td>\n",
       "      <td>-122.352664</td>\n",
       "      <td>136.249123</td>\n",
       "      <td>37.771427</td>\n",
       "      <td>-122.352250</td>\n",
       "      <td>4472.906375</td>\n",
       "      <td>1984.806437</td>\n",
       "    </tr>\n",
       "    <tr>\n",
       "      <th>std</th>\n",
       "      <td>1794.389780</td>\n",
       "      <td>111.778864</td>\n",
       "      <td>0.099581</td>\n",
       "      <td>0.117097</td>\n",
       "      <td>111.515131</td>\n",
       "      <td>0.099490</td>\n",
       "      <td>0.116673</td>\n",
       "      <td>1664.383394</td>\n",
       "      <td>10.116689</td>\n",
       "    </tr>\n",
       "    <tr>\n",
       "      <th>min</th>\n",
       "      <td>61.000000</td>\n",
       "      <td>3.000000</td>\n",
       "      <td>37.317298</td>\n",
       "      <td>-122.453704</td>\n",
       "      <td>3.000000</td>\n",
       "      <td>37.317298</td>\n",
       "      <td>-122.453704</td>\n",
       "      <td>11.000000</td>\n",
       "      <td>1878.000000</td>\n",
       "    </tr>\n",
       "    <tr>\n",
       "      <th>25%</th>\n",
       "      <td>325.000000</td>\n",
       "      <td>47.000000</td>\n",
       "      <td>37.770083</td>\n",
       "      <td>-122.412408</td>\n",
       "      <td>44.000000</td>\n",
       "      <td>37.770407</td>\n",
       "      <td>-122.411726</td>\n",
       "      <td>3777.000000</td>\n",
       "      <td>1980.000000</td>\n",
       "    </tr>\n",
       "    <tr>\n",
       "      <th>50%</th>\n",
       "      <td>514.000000</td>\n",
       "      <td>104.000000</td>\n",
       "      <td>37.780760</td>\n",
       "      <td>-122.398285</td>\n",
       "      <td>100.000000</td>\n",
       "      <td>37.781010</td>\n",
       "      <td>-122.398279</td>\n",
       "      <td>4958.000000</td>\n",
       "      <td>1987.000000</td>\n",
       "    </tr>\n",
       "    <tr>\n",
       "      <th>75%</th>\n",
       "      <td>796.000000</td>\n",
       "      <td>239.000000</td>\n",
       "      <td>37.797280</td>\n",
       "      <td>-122.286533</td>\n",
       "      <td>235.000000</td>\n",
       "      <td>37.797320</td>\n",
       "      <td>-122.288045</td>\n",
       "      <td>5502.000000</td>\n",
       "      <td>1992.000000</td>\n",
       "    </tr>\n",
       "    <tr>\n",
       "      <th>max</th>\n",
       "      <td>85444.000000</td>\n",
       "      <td>398.000000</td>\n",
       "      <td>37.880222</td>\n",
       "      <td>-121.874119</td>\n",
       "      <td>398.000000</td>\n",
       "      <td>37.880222</td>\n",
       "      <td>-121.874119</td>\n",
       "      <td>6645.000000</td>\n",
       "      <td>2001.000000</td>\n",
       "    </tr>\n",
       "  </tbody>\n",
       "</table>\n",
       "</div>"
      ],
      "text/plain": [
       "        duration_sec  start_station_id  start_station_latitude  \\\n",
       "count  183412.000000     183215.000000           183412.000000   \n",
       "mean      726.078435        138.590427               37.771223   \n",
       "std      1794.389780        111.778864                0.099581   \n",
       "min        61.000000          3.000000               37.317298   \n",
       "25%       325.000000         47.000000               37.770083   \n",
       "50%       514.000000        104.000000               37.780760   \n",
       "75%       796.000000        239.000000               37.797280   \n",
       "max     85444.000000        398.000000               37.880222   \n",
       "\n",
       "       start_station_longitude  end_station_id  end_station_latitude  \\\n",
       "count            183412.000000   183215.000000         183412.000000   \n",
       "mean               -122.352664      136.249123             37.771427   \n",
       "std                   0.117097      111.515131              0.099490   \n",
       "min                -122.453704        3.000000             37.317298   \n",
       "25%                -122.412408       44.000000             37.770407   \n",
       "50%                -122.398285      100.000000             37.781010   \n",
       "75%                -122.286533      235.000000             37.797320   \n",
       "max                -121.874119      398.000000             37.880222   \n",
       "\n",
       "       end_station_longitude        bike_id  member_birth_year  \n",
       "count          183412.000000  183412.000000      175147.000000  \n",
       "mean             -122.352250    4472.906375        1984.806437  \n",
       "std                 0.116673    1664.383394          10.116689  \n",
       "min              -122.453704      11.000000        1878.000000  \n",
       "25%              -122.411726    3777.000000        1980.000000  \n",
       "50%              -122.398279    4958.000000        1987.000000  \n",
       "75%              -122.288045    5502.000000        1992.000000  \n",
       "max              -121.874119    6645.000000        2001.000000  "
      ]
     },
     "execution_count": 116,
     "metadata": {},
     "output_type": "execute_result"
    }
   ],
   "source": [
    "df.describe()"
   ]
  },
  {
   "cell_type": "code",
   "execution_count": 117,
   "metadata": {},
   "outputs": [],
   "source": [
    "# Remove null value\n",
    "df = df[df.start_station_id.notnull()]\n",
    "df = df[df.member_birth_year.notnull()]"
   ]
  },
  {
   "cell_type": "code",
   "execution_count": 118,
   "metadata": {},
   "outputs": [],
   "source": [
    "# Correct wronng datatype for : start time and end time \n",
    "df.start_time  = pd.to_datetime(df.start_time)\n",
    "df.end_time = pd.to_datetime(df.end_time)"
   ]
  },
  {
   "cell_type": "code",
   "execution_count": 119,
   "metadata": {},
   "outputs": [],
   "source": [
    "# Change datatype of user_type , gender , bike_share_for_all_trip to category datatype\n",
    "df.user_type = df.user_type.astype('category')\n",
    "df.member_gender = df.member_gender.astype('category')\n",
    "df.bike_share_for_all_trip = df.bike_share_for_all_trip.astype('category')"
   ]
  },
  {
   "cell_type": "code",
   "execution_count": 120,
   "metadata": {},
   "outputs": [],
   "source": [
    "# Change bike id, start_station_id, end_station_id datatype to string datatype\n",
    "df.bike_id = df.bike_id.astype(str)\n",
    "df.start_station_id = df.bike_id.astype(str)\n",
    "df.end_station_id = df.bike_id.astype(str)\n"
   ]
  },
  {
   "cell_type": "code",
   "execution_count": 121,
   "metadata": {},
   "outputs": [
    {
     "data": {
      "text/plain": [
       "count    174952.000000\n",
       "mean         36.196865\n",
       "std          10.118731\n",
       "min          20.000000\n",
       "25%          29.000000\n",
       "50%          34.000000\n",
       "75%          41.000000\n",
       "max         143.000000\n",
       "Name: member_age, dtype: float64"
      ]
     },
     "execution_count": 121,
     "metadata": {},
     "output_type": "execute_result"
    }
   ],
   "source": [
    "# Create column for member age  \n",
    "df['member_age'] = 2021-df['member_birth_year']\n",
    "df.member_age.describe()"
   ]
  },
  {
   "cell_type": "code",
   "execution_count": 122,
   "metadata": {},
   "outputs": [],
   "source": [
    "# Create function for convert the customer’s age into 6 stages to be able to analyze it¶\n",
    "def ages(member_age):\n",
    "    if 20<member_age<=30:\n",
    "        return '20-30'\n",
    "    \n",
    "    elif 30<member_age<=40:\n",
    "        return '31-40'  \n",
    "    \n",
    "    elif 40<member_age<=50:\n",
    "        return '41-50'\n",
    "    \n",
    "    elif 50<member_age<=60:\n",
    "        return '51-60'\n",
    "    \n",
    "    elif 60<member_age<=70:\n",
    "        return '61-70'\n",
    "    \n",
    "    else :\n",
    "        return '> 71'\n",
    "\n",
    "df['age_stages'] = df['member_age'].apply(ages)\n"
   ]
  },
  {
   "cell_type": "code",
   "execution_count": 123,
   "metadata": {},
   "outputs": [
    {
     "data": {
      "text/plain": [
       "31-40    72648\n",
       "20-30    56626\n",
       "41-50    27787\n",
       "51-60    12897\n",
       "61-70     4108\n",
       "> 71       886\n",
       "Name: age_stages, dtype: int64"
      ]
     },
     "execution_count": 123,
     "metadata": {},
     "output_type": "execute_result"
    }
   ],
   "source": [
    "df.age_stages.value_counts()"
   ]
  },
  {
   "cell_type": "code",
   "execution_count": 124,
   "metadata": {},
   "outputs": [],
   "source": [
    "age_order = ['20-30', '31-40', '41-50', '51-60', '61-70' , '> 71']"
   ]
  },
  {
   "cell_type": "code",
   "execution_count": 125,
   "metadata": {},
   "outputs": [],
   "source": [
    "# # Create column for member age\n",
    "df['start_time_day'] = pd.DatetimeIndex(df['start_time']).day\n",
    "df['start_time_hour'] = pd.DatetimeIndex(df['start_time']).hour\n",
    "df['start_time_weekOfDay']=df['start_time'].dt.strftime('%a')"
   ]
  },
  {
   "cell_type": "code",
   "execution_count": 126,
   "metadata": {},
   "outputs": [
    {
     "data": {
      "text/plain": [
       "count                         174952\n",
       "unique                        174941\n",
       "top       2019-02-07 17:56:08.897000\n",
       "freq                               2\n",
       "first     2019-02-01 00:00:20.636000\n",
       "last      2019-02-28 23:59:18.548000\n",
       "Name: start_time, dtype: object"
      ]
     },
     "execution_count": 126,
     "metadata": {},
     "output_type": "execute_result"
    }
   ],
   "source": [
    "df.start_time.describe()"
   ]
  },
  {
   "cell_type": "code",
   "execution_count": 127,
   "metadata": {},
   "outputs": [
    {
     "data": {
      "text/plain": [
       "1     5827\n",
       "2     3003\n",
       "3     2709\n",
       "4     5273\n",
       "5     8136\n",
       "6     8655\n",
       "7     8798\n",
       "8     6094\n",
       "9     2549\n",
       "10    3697\n",
       "11    8315\n",
       "12    8155\n",
       "13    3078\n",
       "14    6346\n",
       "15    6977\n",
       "16    3734\n",
       "17    3877\n",
       "18    5296\n",
       "19    9096\n",
       "20    9246\n",
       "21    9120\n",
       "22    8765\n",
       "23    5128\n",
       "24    4229\n",
       "25    6757\n",
       "26    5197\n",
       "27    7447\n",
       "28    9448\n",
       "Name: start_time_day, dtype: int64"
      ]
     },
     "execution_count": 127,
     "metadata": {},
     "output_type": "execute_result"
    }
   ],
   "source": [
    "df.start_time_day.value_counts(sort=False)"
   ]
  },
  {
   "cell_type": "code",
   "execution_count": 128,
   "metadata": {},
   "outputs": [
    {
     "data": {
      "text/plain": [
       "0       893\n",
       "1       525\n",
       "2       355\n",
       "3       164\n",
       "4       227\n",
       "5       866\n",
       "6      3293\n",
       "7     10231\n",
       "8     20227\n",
       "9     15204\n",
       "10     7970\n",
       "11     7461\n",
       "12     8220\n",
       "13     8098\n",
       "14     7677\n",
       "15     8646\n",
       "16    13473\n",
       "17    20904\n",
       "18    16118\n",
       "19     9424\n",
       "20     6211\n",
       "21     4400\n",
       "22     2793\n",
       "23     1572\n",
       "Name: start_time_hour, dtype: int64"
      ]
     },
     "execution_count": 128,
     "metadata": {},
     "output_type": "execute_result"
    }
   ],
   "source": [
    "df.start_time_hour.value_counts(sort=False)"
   ]
  },
  {
   "cell_type": "code",
   "execution_count": 129,
   "metadata": {},
   "outputs": [
    {
     "data": {
      "text/plain": [
       "Thu    33712\n",
       "Tue    30584\n",
       "Wed    28426\n",
       "Fri    27663\n",
       "Mon    25641\n",
       "Sun    14512\n",
       "Sat    14414\n",
       "Name: start_time_weekOfDay, dtype: int64"
      ]
     },
     "execution_count": 129,
     "metadata": {},
     "output_type": "execute_result"
    }
   ],
   "source": [
    "df.start_time_weekOfDay.value_counts()"
   ]
  },
  {
   "cell_type": "code",
   "execution_count": 130,
   "metadata": {},
   "outputs": [
    {
     "name": "stdout",
     "output_type": "stream",
     "text": [
      "<class 'pandas.core.frame.DataFrame'>\n",
      "Int64Index: 174952 entries, 0 to 183411\n",
      "Data columns (total 21 columns):\n",
      " #   Column                   Non-Null Count   Dtype         \n",
      "---  ------                   --------------   -----         \n",
      " 0   duration_sec             174952 non-null  int64         \n",
      " 1   start_time               174952 non-null  datetime64[ns]\n",
      " 2   end_time                 174952 non-null  datetime64[ns]\n",
      " 3   start_station_id         174952 non-null  object        \n",
      " 4   start_station_name       174952 non-null  object        \n",
      " 5   start_station_latitude   174952 non-null  float64       \n",
      " 6   start_station_longitude  174952 non-null  float64       \n",
      " 7   end_station_id           174952 non-null  object        \n",
      " 8   end_station_name         174952 non-null  object        \n",
      " 9   end_station_latitude     174952 non-null  float64       \n",
      " 10  end_station_longitude    174952 non-null  float64       \n",
      " 11  bike_id                  174952 non-null  object        \n",
      " 12  user_type                174952 non-null  category      \n",
      " 13  member_birth_year        174952 non-null  float64       \n",
      " 14  member_gender            174952 non-null  category      \n",
      " 15  bike_share_for_all_trip  174952 non-null  category      \n",
      " 16  member_age               174952 non-null  float64       \n",
      " 17  age_stages               174952 non-null  object        \n",
      " 18  start_time_day           174952 non-null  int64         \n",
      " 19  start_time_hour          174952 non-null  int64         \n",
      " 20  start_time_weekOfDay     174952 non-null  object        \n",
      "dtypes: category(3), datetime64[ns](2), float64(6), int64(3), object(7)\n",
      "memory usage: 25.9+ MB\n"
     ]
    }
   ],
   "source": [
    "df.info()"
   ]
  },
  {
   "cell_type": "code",
   "execution_count": 131,
   "metadata": {},
   "outputs": [
    {
     "data": {
      "text/plain": [
       "Male      130500\n",
       "Female     40805\n",
       "Other       3647\n",
       "Name: member_gender, dtype: int64"
      ]
     },
     "execution_count": 131,
     "metadata": {},
     "output_type": "execute_result"
    }
   ],
   "source": [
    "df.member_gender.value_counts()"
   ]
  },
  {
   "cell_type": "code",
   "execution_count": 132,
   "metadata": {},
   "outputs": [
    {
     "data": {
      "text/plain": [
       "duration_sec               0\n",
       "start_time                 0\n",
       "end_time                   0\n",
       "start_station_id           0\n",
       "start_station_name         0\n",
       "start_station_latitude     0\n",
       "start_station_longitude    0\n",
       "end_station_id             0\n",
       "end_station_name           0\n",
       "end_station_latitude       0\n",
       "end_station_longitude      0\n",
       "bike_id                    0\n",
       "user_type                  0\n",
       "member_birth_year          0\n",
       "member_gender              0\n",
       "bike_share_for_all_trip    0\n",
       "member_age                 0\n",
       "age_stages                 0\n",
       "start_time_day             0\n",
       "start_time_hour            0\n",
       "start_time_weekOfDay       0\n",
       "dtype: int64"
      ]
     },
     "execution_count": 132,
     "metadata": {},
     "output_type": "execute_result"
    }
   ],
   "source": [
    "df.isnull().sum()"
   ]
  },
  {
   "cell_type": "markdown",
   "metadata": {},
   "source": [
    "> ## Structure of the Dataset : \n",
    " > Originally there were approx. 183,000 bike rides that happen in February 2019 . The dataset contained features about:\n",
    " \n",
    " - trip duration: start_time,end_time, how long the trip took in seconds\n",
    " - stations: start and end station id, name, geolocation (latitude/longitude)\n",
    " - rented bikes: bike id\n",
    " - customer data: gender, birth date and user type\n",
    " - rented bikes: bike id\n",
    "\n",
    "\n",
    " -  The dataset was further added few columns to find interesting analysis:\n",
    " -  Bike time: month, day, hour of the day, weekday (both for start and end date)\n",
    " -  customer: age\n"
   ]
  },
  {
   "cell_type": "markdown",
   "metadata": {},
   "source": [
    "## What is/are the main feature(s) of interest in your dataset? \n",
    ">- Average trip duration\n",
    ">- Age group with high demand \n",
    ">- Gender \n"
   ]
  },
  {
   "cell_type": "markdown",
   "metadata": {},
   "source": [
    "## What features in the dataset do you think will help support your investigation into your feature(s) of interest?\n",
    "- Bike time\n",
    "- Trip duration\n",
    "- Age"
   ]
  },
  {
   "cell_type": "markdown",
   "metadata": {},
   "source": [
    "## Univariate Exploration :"
   ]
  },
  {
   "cell_type": "markdown",
   "metadata": {},
   "source": [
    "> ### I'll start by looking at : \n",
    "> #### trip over monthdays and weekdays.\n",
    "> #### The most used age groups for bike.\n",
    "> #### Gender distribution.\n",
    "> #### Duration ride distribution."
   ]
  },
  {
   "cell_type": "markdown",
   "metadata": {},
   "source": [
    "## Distribution of trip over day hours"
   ]
  },
  {
   "cell_type": "code",
   "execution_count": 133,
   "metadata": {},
   "outputs": [],
   "source": [
    "base_color = sns.color_palette()[0]"
   ]
  },
  {
   "cell_type": "code",
   "execution_count": 134,
   "metadata": {},
   "outputs": [
    {
     "data": {
      "image/png": "[encoded data removed]",
      "text/plain": [
       "<Figure size 360x360 with 1 Axes>"
      ]
     },
     "metadata": {
      "needs_background": "light"
     },
     "output_type": "display_data"
    }
   ],
   "source": [
    "u = sns.catplot(data=df, x='start_time_hour', kind='count', color=base_color )\n",
    "u.set_axis_labels(\"Hours\", \"Count\")\n",
    "u.fig.suptitle('Distribution of trip over day hours', fontsize=15, color=base_color , y =1);\n",
    "plt.xticks(rotation=90);\n"
   ]
  },
  {
   "cell_type": "markdown",
   "metadata": {},
   "source": [
    "> the system is used increasingly in two shifts, the first from 7 to 9 in the morning and back down, the second period between 4 pm to 6 pm."
   ]
  },
  {
   "cell_type": "markdown",
   "metadata": {},
   "source": [
    "## Distribution of trip over weekdays"
   ]
  },
  {
   "cell_type": "code",
   "execution_count": 135,
   "metadata": {},
   "outputs": [
    {
     "data": {
      "text/plain": [
       "<Figure size 720x720 with 0 Axes>"
      ]
     },
     "metadata": {},
     "output_type": "display_data"
    },
    {
     "data": {
      "image/png": "[encoded data removed]",
      "text/plain": [
       "<Figure size 360x360 with 1 Axes>"
      ]
     },
     "metadata": {
      "needs_background": "light"
     },
     "output_type": "display_data"
    }
   ],
   "source": [
    "plt.figure(figsize = [10, 10]);\n",
    "u = sns.catplot(data=df, x='start_time_weekOfDay', kind='count', color=base_color )\n",
    "u.set_axis_labels(\"Days\", \"Count\")\n",
    "u.fig.suptitle('Distribution of trip over weekdays ', fontsize=15, color=base_color , y =1.1);"
   ]
  },
  {
   "cell_type": "markdown",
   "metadata": {},
   "source": [
    "> The system is used increasingly On work days and it goes down at the weekend."
   ]
  },
  {
   "cell_type": "markdown",
   "metadata": {},
   "source": [
    "## Distribution of Ages over trips"
   ]
  },
  {
   "cell_type": "code",
   "execution_count": 136,
   "metadata": {},
   "outputs": [
    {
     "data": {
      "text/plain": [
       "<Figure size 720x720 with 0 Axes>"
      ]
     },
     "metadata": {},
     "output_type": "display_data"
    },
    {
     "data": {
      "image/png": "[encoded data removed]",
      "text/plain": [
       "<Figure size 360x360 with 1 Axes>"
      ]
     },
     "metadata": {
      "needs_background": "light"
     },
     "output_type": "display_data"
    }
   ],
   "source": [
    "plt.figure(figsize = [10, 10]);\n",
    "u = sns.catplot(data=df, x='age_stages', kind='count', color=base_color , order=age_order)\n",
    "u.set_axis_labels(\"Ages\", \"Count\")\n",
    "u.fig.suptitle('Distribution of Ages over trips', fontsize=15, color=base_color);\n",
    "plt.xticks(rotation=45);"
   ]
  },
  {
   "cell_type": "markdown",
   "metadata": {},
   "source": [
    "> Most of the users are between 31-40 years old."
   ]
  },
  {
   "cell_type": "code",
   "execution_count": 137,
   "metadata": {},
   "outputs": [
    {
     "data": {
      "text/plain": [
       "count    174952.000000\n",
       "mean         11.241461\n",
       "std          27.371269\n",
       "min           1.000000\n",
       "25%           5.000000\n",
       "50%           8.000000\n",
       "75%          13.000000\n",
       "max        1409.000000\n",
       "Name: duration_min, dtype: float64"
      ]
     },
     "execution_count": 137,
     "metadata": {},
     "output_type": "execute_result"
    }
   ],
   "source": [
    "df['duration_min'] = df['duration_sec']/60\n",
    "df['duration_min'] = df['duration_min'].astype(int)\n",
    "df.duration_min.describe()"
   ]
  },
  {
   "cell_type": "markdown",
   "metadata": {},
   "source": [
    "## Distribution of trips based on Gender"
   ]
  },
  {
   "cell_type": "code",
   "execution_count": 138,
   "metadata": {},
   "outputs": [
    {
     "data": {
      "text/plain": [
       "<Figure size 720x720 with 0 Axes>"
      ]
     },
     "metadata": {},
     "output_type": "display_data"
    },
    {
     "data": {
      "image/png": "[encoded data removed]",
      "text/plain": [
       "<Figure size 360x360 with 1 Axes>"
      ]
     },
     "metadata": {
      "needs_background": "light"
     },
     "output_type": "display_data"
    }
   ],
   "source": [
    "plt.figure(figsize = [10, 10])\n",
    "u = sns.catplot(data=df, x='member_gender', kind='count', color=base_color ,order=['Male' , 'Female' ] )\n",
    "u.set_axis_labels(\"Hours\", \"Count\")\n",
    "u.fig.suptitle('Distribution of trips based on Gender', fontsize=15, color=base_color , y =1.1 );\n",
    "plt.xticks(rotation=90);\n"
   ]
  },
  {
   "cell_type": "markdown",
   "metadata": {},
   "source": [
    "> From bar graph it shows male members took more rides compared to percentage of female riders "
   ]
  },
  {
   "cell_type": "markdown",
   "metadata": {},
   "source": [
    "## Distribution of trips per minute "
   ]
  },
  {
   "cell_type": "code",
   "execution_count": 139,
   "metadata": {},
   "outputs": [
    {
     "data": {
      "image/png": "[encoded data removed]",
      "text/plain": [
       "<Figure size 720x720 with 1 Axes>"
      ]
     },
     "metadata": {
      "needs_background": "light"
     },
     "output_type": "display_data"
    }
   ],
   "source": [
    "plt.figure(figsize = [10, 10])\n",
    "bin_edges = np.arange(0, 45, 1)\n",
    "plt.hist(data = df, x = 'duration_min', bins = bin_edges, rwidth = 0.6);\n",
    "plt.title(\"Ford GoBike system trip duration in minutes\", fontsize=16, fontweight='bold')\n",
    "plt.xlabel('Duration (Min)')\n",
    "plt.ylabel('Count');\n"
   ]
  },
  {
   "cell_type": "markdown",
   "metadata": {},
   "source": [
    "> It looks most of the trips were less than half an hour long with most of them fell between 5 to 10 minutes range."
   ]
  },
  {
   "cell_type": "markdown",
   "metadata": {},
   "source": [
    "## Bivariate Exploration "
   ]
  },
  {
   "cell_type": "markdown",
   "metadata": {},
   "source": [
    "> In this section I will further explore the dataset by adding the User type and age stages and member gender to the analysis."
   ]
  },
  {
   "cell_type": "markdown",
   "metadata": {},
   "source": [
    "## User type split for GoBike sharing system"
   ]
  },
  {
   "cell_type": "code",
   "execution_count": 140,
   "metadata": {},
   "outputs": [],
   "source": [
    "male = df.query('member_gender == \"Male\"')['bike_id'].count()\n",
    "female = df.query('member_gender == \"Female\"')['bike_id'].count()\n",
    "other = df.query('member_gender == \"Other\"')['bike_id'].count()\n",
    "male_proportion = male / df['bike_id'].count()\n",
    "female_proportion = female / df['bike_id'].count()\n",
    "other_proportion = other / df['bike_id'].count()"
   ]
  },
  {
   "cell_type": "code",
   "execution_count": 141,
   "metadata": {},
   "outputs": [
    {
     "data": {
      "image/png": "[encoded data removed]",
      "text/plain": [
       "<Figure size 1440x1440 with 2 Axes>"
      ]
     },
     "metadata": {
      "needs_background": "light"
     },
     "output_type": "display_data"
    }
   ],
   "source": [
    "plt.figure(figsize = [20, 20])\n",
    "\n",
    "# code for the bar chart\n",
    "plt.subplot(1, 2, 1)\n",
    "\n",
    "g = sns.countplot(data=df, x=\"member_gender\", order=df.member_gender.value_counts().index)\n",
    "g.set_xlabel('Member Gender')\n",
    "g.set_ylabel('Count')\n",
    "\n",
    "# code for the pie chart\n",
    "plt.subplot(1, 2, 2)\n",
    "\n",
    "labels = ['male', 'female' , 'other' ]\n",
    "sizes = [male_proportion, female_proportion, other_proportion]\n",
    "colors = ['darkorange', 'steelblue' , 'green']\n",
    "\n",
    "plt.pie(sizes, labels=labels,colors = colors, wedgeprops={'edgecolor' : 'black'},autopct='%1.1f%%' ,startangle=90)\n",
    "plt.axis('equal')\n",
    "\n",
    "plt.suptitle('Gender type split for GoBike sharing system', y=1, fontsize=14, fontweight='semibold');"
   ]
  },
  {
   "cell_type": "markdown",
   "metadata": {},
   "source": [
    "> The graph above shows,Men get the largest percentage of trips"
   ]
  },
  {
   "cell_type": "markdown",
   "metadata": {},
   "source": [
    "## Distribution of daily trips based on gender "
   ]
  },
  {
   "cell_type": "code",
   "execution_count": 142,
   "metadata": {},
   "outputs": [
    {
     "data": {
      "image/png": "[encoded data removed]",
      "text/plain": [
       "<Figure size 1440x1440 with 1 Axes>"
      ]
     },
     "metadata": {
      "needs_background": "light"
     },
     "output_type": "display_data"
    }
   ],
   "source": [
    "plt.figure(figsize = [20, 20]);\n",
    "ax = plt.subplot(6, 1, 2);\n",
    "sns.countplot(data = df, x = 'start_time_weekOfDay', hue = 'member_gender', palette = 'Blues');\n",
    "ax.legend(ncol = 2); "
   ]
  },
  {
   "cell_type": "markdown",
   "metadata": {},
   "source": [
    "> The graph above shows ,the number of rides per day, and we can see the weekend it is has the lowest number of rides for both male and female."
   ]
  },
  {
   "cell_type": "code",
   "execution_count": 143,
   "metadata": {
    "scrolled": true
   },
   "outputs": [
    {
     "data": {
      "image/png": "[encoded data removed]",
      "text/plain": [
       "<Figure size 432x288 with 1 Axes>"
      ]
     },
     "metadata": {
      "needs_background": "light"
     },
     "output_type": "display_data"
    }
   ],
   "source": [
    "sns.violinplot(data = df.query(\"member_birth_year > 1778\"),x = 'member_gender',y='member_birth_year',color = sns.color_palette()[0],inner=None);"
   ]
  },
  {
   "cell_type": "markdown",
   "metadata": {},
   "source": [
    "> As shown in the charts above , Most of Male and Female born between 1980 - 2000."
   ]
  },
  {
   "cell_type": "markdown",
   "metadata": {},
   "source": [
    "> As shown in the charts above ,the number of rides per day, and we can see the weekend it is has the lowest number of rides for both male and female."
   ]
  },
  {
   "cell_type": "markdown",
   "metadata": {},
   "source": [
    "## User type split for GoBike sharing system "
   ]
  },
  {
   "cell_type": "code",
   "execution_count": 144,
   "metadata": {},
   "outputs": [
    {
     "data": {
      "image/png": "[encoded data removed]",
      "text/plain": [
       "<Figure size 576x576 with 1 Axes>"
      ]
     },
     "metadata": {},
     "output_type": "display_data"
    }
   ],
   "source": [
    "sorted_counts = df['user_type'].value_counts()\n",
    "percent = sorted_counts[1] / sorted_counts[0].sum()*100\n",
    "slide = [sorted_counts[0],sorted_counts[1]]\n",
    "label = ['Customer' , \"Subscriber\"]\n",
    "color = [\"lightblue\" , \"tomato\"]\n",
    "explode = [0,0.1]\n",
    "plt.pie(slide ,startangle= 90 , labels = label ,colors=color,explode = explode,autopct='%1.1f%%' ,wedgeprops={'edgecolor' : 'black'})\n",
    "plt.title(\"Percentage of user type\")\n",
    "fig = plt.gcf()\n",
    "fig.set_size_inches(8,8);\n"
   ]
  },
  {
   "cell_type": "markdown",
   "metadata": {},
   "source": [
    "> The graph above shows , Most of the customers type is \"subscriber\""
   ]
  },
  {
   "cell_type": "markdown",
   "metadata": {},
   "source": [
    "## Age distribution based on the type of user "
   ]
  },
  {
   "cell_type": "code",
   "execution_count": 145,
   "metadata": {},
   "outputs": [
    {
     "data": {
      "image/png": "[encoded data removed]",
      "text/plain": [
       "<Figure size 1440x1440 with 1 Axes>"
      ]
     },
     "metadata": {
      "needs_background": "light"
     },
     "output_type": "display_data"
    }
   ],
   "source": [
    "plt.figure(figsize = [20, 20]);\n",
    "sns.countplot(data = df, x = 'age_stages', hue = 'user_type', palette = 'autumn' );"
   ]
  },
  {
   "cell_type": "code",
   "execution_count": 146,
   "metadata": {},
   "outputs": [
    {
     "data": {
      "text/plain": [
       "count    174952.000000\n",
       "mean       1984.803135\n",
       "std          10.118731\n",
       "min        1878.000000\n",
       "25%        1980.000000\n",
       "50%        1987.000000\n",
       "75%        1992.000000\n",
       "max        2001.000000\n",
       "Name: member_birth_year, dtype: float64"
      ]
     },
     "execution_count": 146,
     "metadata": {},
     "output_type": "execute_result"
    }
   ],
   "source": [
    "df.member_birth_year.describe()"
   ]
  },
  {
   "cell_type": "code",
   "execution_count": 147,
   "metadata": {},
   "outputs": [
    {
     "data": {
      "image/png": "[encoded data removed]",
      "text/plain": [
       "<Figure size 720x720 with 1 Axes>"
      ]
     },
     "metadata": {
      "needs_background": "light"
     },
     "output_type": "display_data"
    }
   ],
   "source": [
    "plt.figure(figsize = [10, 10]);\n",
    "sns.boxplot(data=df, x='user_type', y='member_age', color=base_color);\n",
    "plt.xlabel('User Type');\n",
    "plt.ylabel('Member Age');\n"
   ]
  },
  {
   "cell_type": "markdown",
   "metadata": {},
   "source": [
    "> As shown in the chart above , Most of the customers type is \"subscriber\" , They are from the age group of 31-40 years.\n"
   ]
  },
  {
   "cell_type": "code",
   "execution_count": 148,
   "metadata": {},
   "outputs": [
    {
     "data": {
      "image/png": "[encoded data removed]",
      "text/plain": [
       "<Figure size 432x288 with 1 Axes>"
      ]
     },
     "metadata": {
      "needs_background": "light"
     },
     "output_type": "display_data"
    }
   ],
   "source": [
    "sns.violinplot(data = df.query(\"member_birth_year > 1778\"),x = 'user_type',y='member_birth_year',color = sns.color_palette()[0],inner=None);"
   ]
  },
  {
   "cell_type": "markdown",
   "metadata": {},
   "source": [
    "> > As shown in the charts above , Most of \"customer\" and \"Subscriber\" born between 1980 - 2000."
   ]
  },
  {
   "cell_type": "markdown",
   "metadata": {},
   "source": [
    "## Talk about some of the relationships you observed in this part of the investigation. How did the feature(s) of interest vary with other features in the dataset?\n",
    "> - the system is used increasingly in two shifts, the first from 7 to 9 in the morning and back down, the second period between 4 pm to 6 pm.\n",
    "> - The system is used increasingly On workdays and it goes down at the weekend.\n",
    "> - Most of the users are between 31-40 years old.\n",
    "> - Male members took more rides compared to the percentage of female riders\n",
    "> - Most of the trips were less than half an hour long with most of them fell between the 5 to 10 minutes range.\n",
    "> - The weekend it has the lowest number of rides for both male and female\n",
    "> - Most of the customer's type is \"subscriber\", They are from the age group of 31-40 years.\n",
    "> - Most of the \"customer\" and \"Subscriber\" were born between 1980 - 2000."
   ]
  },
  {
   "cell_type": "markdown",
   "metadata": {},
   "source": [
    "## Multivariate Exploration"
   ]
  },
  {
   "cell_type": "markdown",
   "metadata": {},
   "source": [
    "> In this section I will further explore the dataset by adding gender to the customer type and check the daily distribution of bike rides during weekdays for customers and subscribers."
   ]
  },
  {
   "cell_type": "markdown",
   "metadata": {},
   "source": [
    "## The Daily Usage of Bike Rides per User Type Based on Gender "
   ]
  },
  {
   "cell_type": "code",
   "execution_count": 149,
   "metadata": {},
   "outputs": [
    {
     "data": {
      "text/plain": [
       "<Figure size 1800x1800 with 0 Axes>"
      ]
     },
     "metadata": {},
     "output_type": "display_data"
    },
    {
     "data": {
      "image/png": "[encoded data removed]",
      "text/plain": [
       "<Figure size 810.375x360 with 2 Axes>"
      ]
     },
     "metadata": {
      "needs_background": "light"
     },
     "output_type": "display_data"
    }
   ],
   "source": [
    "plt.figure(figsize = [25, 25]);\n",
    "u = sns.catplot(data=df, x='start_time_weekOfDay', col=\"user_type\", aspect=20/20,hue='member_gender', kind='count',sharey=False)\n",
    "\n",
    "u.set_axis_labels('Days', 'Rides Count')\n",
    "u.set_xticklabels(rotation=90)\n",
    "u._legend.set_title('Gender')\n",
    "u.set_titles('{col_name}');\n",
    "u.fig.suptitle('The Daily Usage of Bike Rides per User Type Based on Gender', fontsize=14, y=1.2);\n"
   ]
  },
  {
   "cell_type": "markdown",
   "metadata": {},
   "source": [
    "> Trips are go down for both male and female subscribers at the weekend, And customers maintain more than 1,500 rides per day almost every day and there is no high drop on the weekend."
   ]
  },
  {
   "cell_type": "markdown",
   "metadata": {},
   "source": [
    "## The Daily Usage of Bike Rides per User Type Based on Age"
   ]
  },
  {
   "cell_type": "code",
   "execution_count": 150,
   "metadata": {},
   "outputs": [
    {
     "data": {
      "text/plain": [
       "<Figure size 1800x1800 with 0 Axes>"
      ]
     },
     "metadata": {},
     "output_type": "display_data"
    },
    {
     "data": {
      "image/png": "[encoded data removed]",
      "text/plain": [
       "<Figure size 1025.12x360 with 2 Axes>"
      ]
     },
     "metadata": {
      "needs_background": "light"
     },
     "output_type": "display_data"
    }
   ],
   "source": [
    "plt.figure(figsize = [25, 25])\n",
    "lm = sns.catplot(data=df, x='start_time_weekOfDay', col=\"user_type\", hue='age_stages', kind='count', aspect=20/15,\n",
    "                 sharey=False, hue_order=age_order)\n",
    "\n",
    "lm.set_axis_labels('Days', 'Rides Count')\n",
    "lm.set_xticklabels(rotation=45)\n",
    "lm.set_titles('{col_name}')\n",
    "lm.fig.suptitle('The Daily Usage of Bike Rides per User Type Based on Age', fontsize=14, y=1.2);\n"
   ]
  },
  {
   "cell_type": "markdown",
   "metadata": {},
   "source": [
    "> - Customers and subscribers of the age group 31-40 are the largest in number of trips.\n",
    "> -  Subscribers of the age group 20-30 are the largest in number of trips in weekends"
   ]
  },
  {
   "cell_type": "markdown",
   "metadata": {},
   "source": [
    "## Trip Duration In minutes for Each User Type Based on Gender"
   ]
  },
  {
   "cell_type": "code",
   "execution_count": 151,
   "metadata": {},
   "outputs": [
    {
     "data": {
      "image/png": "[encoded data removed]",
      "text/plain": [
       "<Figure size 1386.38x432 with 1 Axes>"
      ]
     },
     "metadata": {
      "needs_background": "light"
     },
     "output_type": "display_data"
    }
   ],
   "source": [
    "ax = sns.catplot(data=df.query(\"duration_min <= 30\"), x='user_type', y=\"duration_min\", hue=\"member_gender\", kind=\"violin\", height=6, aspect=3)\n",
    "ax.set_axis_labels(\"User Type\", \"Trip duration - min\")\n",
    "ax._legend.set_title('Gender')\n",
    "ax.fig.suptitle('Trip Duration In minutes for Each User Type Based on Gender', fontsize=15);\n"
   ]
  },
  {
   "cell_type": "markdown",
   "metadata": {},
   "source": [
    "> - As shown in the chart above it is show the duration for each user type based on gender.\n",
    "> - Customer users have higher duration than subscriber users."
   ]
  },
  {
   "cell_type": "markdown",
   "metadata": {},
   "source": [
    "## Talk about some of the relationships you observed in this part of the investigation. Were there features that strengthened each other in terms of looking at your feature(s) of interest?\n",
    "> - The multivariate exploration here showed me Subscribers use bicycles as a means of transportation to their work center or their study center, while customers exceed 1,500 trips throughout the week.\n",
    "> - Men get the largest percentage of trips, As for the duration of the trip for customers, it is usually between 5-15 minutes, and the strange thing here is the duration of the subscribers' trip is less than for customers, as it often ranges between 5-10 minutes.\n",
    "> - Most of the trips are between 7-9 am and 4-6 pm."
   ]
  }
 ],
 "metadata": {
  "kernelspec": {
   "display_name": "Python 3",
   "language": "python",
   "name": "python3"
  },
  "language_info": {
   "codemirror_mode": {
    "name": "ipython",
    "version": 3
   },
   "file_extension": ".py",
   "mimetype": "text/x-python",
   "name": "python",
   "nbconvert_exporter": "python",
   "pygments_lexer": "ipython3",
   "version": "3.8.3"
  }
 },
 "nbformat": 4,
 "nbformat_minor": 4
}
